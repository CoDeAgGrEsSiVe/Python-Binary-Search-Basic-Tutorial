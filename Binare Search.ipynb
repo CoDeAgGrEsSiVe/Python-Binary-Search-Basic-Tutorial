{
 "cells": [
  {
   "cell_type": "code",
   "execution_count": null,
   "metadata": {},
   "outputs": [
    {
     "name": "stdout",
     "output_type": "stream",
     "text": [
      "[8, 12, 14, 16, 40, 52, 54, 64, 76, 92]\n",
      "Please enter the number to search or type 'quit': 3\n",
      "\n",
      "3 : Number not in the list\n",
      "Please enter the number to search or type 'quit': 78\n",
      "\n",
      "78 : Number not in the list\n"
     ]
    }
   ],
   "source": [
    "import random\n",
    "import time\n",
    "import sys\n",
    "\n",
    "def binary_search(values, value):\n",
    "    if len(values) == 0:\n",
    "        return \"Number not in the list\"\n",
    "    Data = values[int(len(values)/2)]\n",
    "    if Data == value:\n",
    "        return \"Number found!\"\n",
    "    elif len(values) == 1 and Data != value:\n",
    "        return \"Number not in the list\"\n",
    "    elif value < Data:\n",
    "        left = values[0:int(len(values) / 2)]\n",
    "        return binary_search(left, value)\n",
    "    elif value > Data:\n",
    "        right = values[int(len(values)/2) + 1: len(values)]\n",
    "        return binary_search(right, value)\n",
    "    \n",
    "    \n",
    "#Binary Method    \n",
    "data = list()\n",
    "for i in range(0,10):\n",
    "    value = random.randrange(0,101,2)\n",
    "    #Eliminate duplicates\n",
    "    while value in data:\n",
    "        value = random.randrange(0,101,2)\n",
    "    data.append(value)\n",
    "\n",
    "data = sorted(data)\n",
    "print(data)\n",
    "while True:\n",
    "    method = input(\"Please enter the number to search or type 'quit': \")\n",
    "    time.sleep(3)\n",
    "    print( )\n",
    "    if method == \"quit\" or method == \"QUIT\" or method == \"q\" or method == \"Q\":\n",
    "        sys.exit()\n",
    "    else:\n",
    "        print(str(int(method)) + \" : \" + binary_search(data, int(method)))\n"
   ]
  },
  {
   "cell_type": "code",
   "execution_count": null,
   "metadata": {},
   "outputs": [],
   "source": []
  },
  {
   "cell_type": "code",
   "execution_count": null,
   "metadata": {},
   "outputs": [],
   "source": []
  }
 ],
 "metadata": {
  "kernelspec": {
   "display_name": "Python 3",
   "language": "python",
   "name": "python3"
  },
  "language_info": {
   "codemirror_mode": {
    "name": "ipython",
    "version": 3
   },
   "file_extension": ".py",
   "mimetype": "text/x-python",
   "name": "python",
   "nbconvert_exporter": "python",
   "pygments_lexer": "ipython3",
   "version": "3.7.4"
  }
 },
 "nbformat": 4,
 "nbformat_minor": 4
}
